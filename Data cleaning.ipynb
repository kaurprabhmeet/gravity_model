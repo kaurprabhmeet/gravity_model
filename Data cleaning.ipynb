{
 "cells": [
  {
   "cell_type": "markdown",
   "metadata": {},
   "source": [
    "## Import dataset from locally stored CEPII database"
   ]
  },
  {
   "cell_type": "code",
   "execution_count": 1,
   "metadata": {},
   "outputs": [],
   "source": [
    "import pandas as pd\n",
    "import numpy as np\n",
    "\n",
    "df = pd.read_csv('./data/gravity.csv', low_memory=False)"
   ]
  },
  {
   "cell_type": "markdown",
   "metadata": {},
   "source": [
    "## __Data cleaning procedures:__\n",
    "- Isolate the columns\n",
    "- Eliminate all rows for missing data for key variables\n",
    "- Create columns needed for regression\n"
   ]
  },
  {
   "cell_type": "code",
   "execution_count": 2,
   "metadata": {},
   "outputs": [],
   "source": [
    "#Isolating the desired columns\n",
    "columns = ['year', 'iso3_o', 'iso3_d', 'distw', 'comlang_off', 'comlang_ethno', 'comcol', 'col45','heg_o', 'heg_d', 'col_dep_ever', 'sibling_ever', 'gdp_o', 'gdp_d', 'wto_o', 'wto_d', 'eu_o', 'eu_d',\n",
    "       'rta', 'rta_coverage', 'tradeflow_comtrade_o', 'tradeflow_comtrade_d', 'tradeflow_baci', 'tradeflow_imf_o', 'tradeflow_imf_d']\n",
    "df = df[columns]"
   ]
  },
  {
   "cell_type": "code",
   "execution_count": 3,
   "metadata": {},
   "outputs": [],
   "source": [
    "#We have that there are 5 different methods of measuring tradeflow, we hence take an average to erradicate the issues of missing values\n",
    "pd.options.mode.chained_assignment = None\n",
    "df['tradeflow'] = df[['tradeflow_comtrade_o', 'tradeflow_comtrade_d', 'tradeflow_baci', 'tradeflow_imf_o', 'tradeflow_imf_d']].mean(axis=1)\n",
    "df = df.drop(['tradeflow_comtrade_o', 'tradeflow_comtrade_d', 'tradeflow_baci', 'tradeflow_imf_o', 'tradeflow_imf_d'], axis=1)"
   ]
  },
  {
   "cell_type": "code",
   "execution_count": 4,
   "metadata": {},
   "outputs": [],
   "source": [
    "#Create dummy for origin and destination being EU countries\n",
    "df['both_eu'] = (df['eu_o'] == 1) & (df['eu_d'] == 1)\n",
    "df['both_eu'] = df['both_eu'].astype(int)"
   ]
  },
  {
   "cell_type": "code",
   "execution_count": 5,
   "metadata": {},
   "outputs": [],
   "source": [
    "#Create dummy for either being EU country\n",
    "df['one_eu'] = (((df['eu_o'] == 1) | (df['eu_d'] == 1)) & (df['both_eu'] == 0))\n",
    "df['one_eu'] = df['one_eu'].astype(int)"
   ]
  },
  {
   "cell_type": "code",
   "execution_count": 6,
   "metadata": {},
   "outputs": [],
   "source": [
    "df = df.drop(['eu_o','eu_d'], axis=1)"
   ]
  },
  {
   "cell_type": "code",
   "execution_count": 7,
   "metadata": {},
   "outputs": [],
   "source": [
    "#Save dataframe where only rows with missing outcome are dropped\n",
    "df_fe = df.copy()\n",
    "df_fe = df_fe.drop(df_fe[df_fe['tradeflow'].isna()].index)\n",
    "df_fe[['tradeflow', 'gdp_o', 'gdp_d', 'distw']] = df_fe[['tradeflow', 'gdp_o', 'gdp_d', 'distw']].replace(0,1)"
   ]
  },
  {
   "cell_type": "code",
   "execution_count": 8,
   "metadata": {
    "scrolled": true
   },
   "outputs": [],
   "source": [
    "#Drop all the rows where any of the fundamental variables in the gravity equation are missing and impute remaining missing tradeflow data\n",
    "df = df.drop(df[df['gdp_o'].isna() | df['gdp_d'].isna() | df['distw'].isna()].index)\n",
    "df = df.drop(df[df['iso3_o'] == df['iso3_d']].index)\n",
    "df['tradeflow'] = df['tradeflow'].fillna(1)\n",
    "df[['tradeflow', 'gdp_o', 'gdp_d', 'distw']] = df[['tradeflow', 'gdp_o', 'gdp_d', 'distw']].replace(0,1)"
   ]
  },
  {
   "cell_type": "code",
   "execution_count": 9,
   "metadata": {},
   "outputs": [],
   "source": [
    "#We create log-transformed variables and drop the original ones, as they will never be used\n",
    "df_fe[['lgdp_o','lgdp_d','ldistw','ltradeflow']] = np.log(df_fe[['gdp_o','gdp_d','distw','tradeflow']])\n",
    "df_fe = df_fe.drop(['gdp_o','gdp_d','distw','tradeflow'], axis=1)\n",
    "df[['lgdp_o','lgdp_d','ldistw','ltradeflow']] = np.log(df[['gdp_o','gdp_d','distw','tradeflow']])\n",
    "df = df.drop(['gdp_o','gdp_d','distw','tradeflow'], axis=1)"
   ]
  },
  {
   "cell_type": "code",
   "execution_count": 10,
   "metadata": {},
   "outputs": [],
   "source": [
    "#Fill in missing values as these were all between China/Taiwan/Hong Kong\n",
    "df['heg_o'] = df['heg_o'].fillna(0)\n",
    "df['heg_d'] = df['heg_d'].fillna(0)\n",
    "df['col_dep_ever'] = df['col_dep_ever'].fillna(0)\n",
    "df['sibling_ever'] = df['sibling_ever'].fillna(0)"
   ]
  },
  {
   "cell_type": "markdown",
   "metadata": {},
   "source": [
    "## We export two cleaned files:\n",
    "- ```cleaned.csv``` contains data where all regressors are non-null\n",
    "- ```cleaned_fe.csv``` contains data where all outcomes are non-null, as null regressors can be assimilated inside fixed effect dummies"
   ]
  },
  {
   "cell_type": "code",
   "execution_count": 11,
   "metadata": {},
   "outputs": [],
   "source": [
    "#Export cleaned data\n",
    "df.to_csv('./data/cleaned.csv', index=False)"
   ]
  },
  {
   "cell_type": "code",
   "execution_count": 12,
   "metadata": {
    "scrolled": false
   },
   "outputs": [],
   "source": [
    "#Export cleaned data containing missing GDP and other variables\n",
    "df_fe.to_csv('./data/cleaned_fe.csv', index=False)"
   ]
  }
 ],
 "metadata": {
  "kernelspec": {
   "display_name": "Python 3",
   "language": "python",
   "name": "python3"
  },
  "language_info": {
   "codemirror_mode": {
    "name": "ipython",
    "version": 3
   },
   "file_extension": ".py",
   "mimetype": "text/x-python",
   "name": "python",
   "nbconvert_exporter": "python",
   "pygments_lexer": "ipython3",
   "version": "3.8.5"
  }
 },
 "nbformat": 4,
 "nbformat_minor": 4
}
